{
 "cells": [
  {
   "cell_type": "markdown",
   "id": "7d6e78fe",
   "metadata": {},
   "source": [
    "# **BINOMIAL THEOREM AND SEQUENCE**"
   ]
  },
  {
   "cell_type": "markdown",
   "id": "cc261960",
   "metadata": {},
   "source": [
    "## **Binomial Theorem**"
   ]
  },
  {
   "cell_type": "markdown",
   "id": "fad45672",
   "metadata": {},
   "source": [
    "Teorema Binomial adalah salah satu alat penting dalam matematika untuk mengekspansi perpangkatan dari penjumlahan dua suku, yaitu $(a+b)^n$\n",
    " . Rumus ini sangat esensial dalam berbagai bidang sains dan teknik, seperti halnya bilangan kompleks yang digunakan untuk menyederhanakan perhitungan dalam fisika, teknik elektro, dan pemrosesan sinyal digital. Dengan teorema binomial, kita dapat menentukan setiap suku dalam ekspansi tanpa melakukan perkalian berulang."
   ]
  },
  {
   "cell_type": "markdown",
   "id": "6536355c",
   "metadata": {},
   "source": [
    "Ekspansi bentuk pangkat dari $ (a + b)^n $ dapat dinyatakan secara sistematis dengan Binomial Theorem. Misalnya:\n",
    "- $ (a + b)^2 = a^2 + 2ab + b^2$\n",
    "- $ (a + b)^3 = a^3 + 3a^2b + 3ab^2 + b^3 $\n",
    "Untuk kasus umum:\n",
    "$$(a + b)^n = \\sum_{r=0}^{n} \\binom{n}{r} a^{n - r} b^r \\tag{1.1} $$\n",
    "Dengan koefisien binomial:\n",
    "$$\\binom{n}{r} = \\frac{n!}{r!(n - r)!} \\tag{1.2} $$\n",
    "Teorema binomial digunakan untuk mengembangkan bentuk pangkat dari jumlah dua suku. Koefisien \\(\\binom{n}{r}\\) disebut koefisien binomial dan dihitung menggunakan faktorial.\n",
    "\n",
    "---\n"
   ]
  },
  {
   "cell_type": "markdown",
   "id": "91f268c8",
   "metadata": {},
   "source": [
    "### Pascal’s Triangle"
   ]
  },
  {
   "cell_type": "markdown",
   "id": "89d441ea",
   "metadata": {},
   "source": [
    "Koefisien dalam Binomial Theorem membentuk Pascal’s Triangle, yang menunjukkan hubungan antara koefisien untuk setiap ekspansi binomial. Polanya adalah segitiga yang dimulai dengan angka 1 di atas, dan setiap angka adalah jumlah dari dua angka yang ada di atasnya:"
   ]
  },
  {
   "cell_type": "markdown",
   "id": "98de3b40",
   "metadata": {},
   "source": [
    "        1\n",
    "       1 1\n",
    "      1 2 1\n",
    "     1 3 3 1\n",
    "    1 4 6 4 1\n"
   ]
  },
  {
   "cell_type": "markdown",
   "id": "42928fd8",
   "metadata": {},
   "source": [
    "Hubungan rekursifnya:\n",
    "$$\\binom{n}{r} = \\binom{n - 1}{r - 1} + \\binom{n - 1}{r} \\tag{1.3}$$\n",
    "Pascal’s Triangle adalah representasi visual dari koefisien binomial, di mana setiap angka dihitung dari dua angka di baris sebelumnya. Ini juga memberikan cara rekursif untuk menghitung koefisien binomial.\n",
    "\n",
    "---"
   ]
  },
  {
   "cell_type": "markdown",
   "id": "f54d4ce2",
   "metadata": {},
   "source": [
    "- **Arithmetic sequence (barisan aritmetika):** Deret dengan selisih yang tetap antara dua suku berturut-turut. \n",
    "$$a_n = a + (n - 1)d \\tag{1.4} $$\n",
    "\n",
    "- **Geometric sequence (barisan geometri):** Deret yang setiap sukunya diperoleh dengan mengalikan suku sebelumnya dengan suatu bilangan tetap 𝑟\n",
    "$$a_n = ar^{n - 1} \\tag{1.5} $$\n",
    "\n",
    "- **Recursive sequence (rekursif):**  Deret yang didefinisikan dengan aturan yang bergantung pada suku sebelumnya, seperti deret Fibonacci.\n",
    "Didefinisikan berdasarkan suku sebelumnya, misalnya:\n",
    "$$a_{n+1} = f(a_n) \\tag{1.6} $$"
   ]
  },
  {
   "cell_type": "markdown",
   "id": "21d836ae",
   "metadata": {},
   "source": [
    "Sequence digunakan untuk menggambarkan deret angka yang mengikuti suatu aturan atau pola. Jenis-jenis sequence ini memiliki aplikasi yang luas dalam berbagai disiplin ilmu, termasuk geofisika, fisika, dan ekonomi.\n",
    "\n",
    "---"
   ]
  },
  {
   "cell_type": "markdown",
   "id": "2e6be8ea",
   "metadata": {},
   "source": [
    "#### Deret Fibonacci"
   ]
  },
  {
   "cell_type": "markdown",
   "id": "4ef4750c",
   "metadata": {},
   "source": [
    "Deret Fibonacci dimulai dengan dua angka pertama 0 dan 1, dan setiap angka berikutnya adalah jumlah dari dua angka sebelumnya. Deret Fibonacci adalah salah satu deret rekursif yang paling terkenal:\n",
    "$$0,\\ 1,\\ 1,\\ 2,\\ 3,\\ 5,\\ 8,\\ 13,\\ \\dots$$\n",
    "Hubungan rekursif:\n",
    "$$a_0 = 0,\\quad a_1 = 1,\\quad a_n = a_{n - 1} + a_{n - 2} \\quad \\text{untuk } n \\geq 2 \\tag{1.7} $$\n",
    "Rumus eksplisit (Binet’s Formula):\n",
    "$$a_n = \\frac{1}{\\sqrt{5}} \\left[ \\left( \\frac{1 + \\sqrt{5}}{2} \\right)^n - \\left( \\frac{1 - \\sqrt{5}}{2} \\right)^n \\right] \\tag{1.8} $$\n",
    "Deret Fibonacci memiliki banyak aplikasi dalam teori matematika dan fenomena alam, seperti pola pertumbuhan tanaman dan struktur alami lainnya. Solusi eksplisit memungkinkan kita untuk menghitung suku ke-𝑛 tanpa menghitung semua suku sebelumnya."
   ]
  },
  {
   "cell_type": "markdown",
   "id": "0c54f082",
   "metadata": {},
   "source": [
    "#### Sum of a Series"
   ]
  },
  {
   "cell_type": "markdown",
   "id": "e5cc1caf",
   "metadata": {},
   "source": [
    "Jumlah dari sejumlah suku dalam suatu deret disebut series. Beberapa jenis seri yang penting adalah:\n",
    "- **Arithmetic series (jumlah barisan aritmetika):**\n",
    "$$S_n = \\frac{n}{2}(a + l) = \\frac{n}{2} \\left[ 2a + (n - 1)d \\right] \\tag{1.9} $$\n",
    "- **Geometric series (jumlah barisan geometri):**\n",
    "$$S_n = \\frac{a(1 - r^n)}{1 - r}, \\quad \\text{untuk } r \\ne 1 \\tag{1.10} $$\n",
    "Jumlah suatu deret (series) dapat digunakan dalam berbagai aplikasi untuk menghitung total akumulasi suatu proses yang berulang, seperti penjumlahan jarak dalam gerakan atau total energi dalam sistem yang berkembang secara teratur.\n"
   ]
  },
  {
   "cell_type": "markdown",
   "id": "df4320be",
   "metadata": {},
   "source": [
    "## **Sequence**"
   ]
  },
  {
   "cell_type": "markdown",
   "id": "7c440f50",
   "metadata": {},
   "source": [
    "Barisan (sequence) adalah susunan bilangan yang diatur menurut aturan tertentu, di mana setiap bilangan disebut suku (term) dari barisan tersebut. Barisan dapat bersifat hingga (finite) atau tak hingga (infinite). Dalam matematika, kita sering menemukan beberapa jenis deret yang penting:"
   ]
  },
  {
   "cell_type": "markdown",
   "id": "e0476a39",
   "metadata": {},
   "source": [
    "#### Infinite Series"
   ]
  },
  {
   "cell_type": "markdown",
   "id": "ed9f70bf",
   "metadata": {},
   "source": [
    "ika rasio $ |r| < 1 $, jumlah deret geometri tak hingga adalah:\n",
    "$$S = \\frac{a}{1 - r} \\tag{1.11} $$\n",
    "\n",
    "Deret geometri tak hingga sering digunakan dalam berbagai model ilmiah, seperti dalam analisis sistem dinamis dan aproksimasi numerik. Keadaan \n",
    "∣\n",
    "𝑟\n",
    "∣\n",
    "<\n",
    "1\n",
    "∣r∣<1 memastikan bahwa jumlah deret tersebut konvergen, artinya deret tersebut memiliki nilai yang terbatas meskipun terdiri dari jumlah suku yang tak terbatas.\n",
    "\n",
    "---"
   ]
  },
  {
   "cell_type": "markdown",
   "id": "1cda7f6a",
   "metadata": {},
   "source": [
    "### **CONTOH SOAL**"
   ]
  },
  {
   "cell_type": "markdown",
   "id": "79332f96",
   "metadata": {},
   "source": [
    "1. Hitung koefisien dari \\( x^4 y^2 \\) dalam ekspansi \\( (x + y)^6 \\)."
   ]
  },
  {
   "cell_type": "code",
   "execution_count": 1,
   "id": "a561a769",
   "metadata": {},
   "outputs": [
    {
     "name": "stdout",
     "output_type": "stream",
     "text": [
      "Koefisien dari x^4 y^2 dalam ekspansi (x + y)^6:\n",
      "C(6, 2) = 6! / (2! * (4)!) = 15\n",
      "Jadi, suku lengkapnya adalah: 15x^4y^2\n"
     ]
    }
   ],
   "source": [
    "from math import comb\n",
    "\n",
    "n = 6          \n",
    "x_exp = 4      \n",
    "y_exp = 2      \n",
    "\n",
    "if x_exp + y_exp == n:\n",
    "    r = y_exp  \n",
    "    koefisien = comb(n, r)\n",
    "    \n",
    "    print(f\"Koefisien dari x^{x_exp} y^{y_exp} dalam ekspansi (x + y)^{n}:\")\n",
    "    print(f\"C({n}, {r}) = {n}! / ({r}! * ({n - r})!) = {koefisien}\")\n",
    "    print(f\"Jadi, suku lengkapnya adalah: {koefisien}x^{x_exp}y^{y_exp}\")\n",
    "else:\n",
    "    print(\"Jumlah pangkat x dan y tidak sama dengan pangkat ekspansi.\")\n",
    "\n"
   ]
  },
  {
   "cell_type": "markdown",
   "id": "5b0c4ef7",
   "metadata": {},
   "source": [
    "2. Sebuah barisan aritmetika memiliki suku pertama 𝑎 = 7\n",
    "dan beda 𝑑 = 5 Hitung jumlah 20 suku pertama."
   ]
  },
  {
   "cell_type": "code",
   "execution_count": 2,
   "id": "3173b29c",
   "metadata": {},
   "outputs": [
    {
     "name": "stdout",
     "output_type": "stream",
     "text": [
      "2a = 14\n",
      "(n - 1)d = (19) * 5 = 95\n",
      "2a + (n - 1)d = 109\n",
      "S_20 = 20/2 * 109 = 1090.0\n",
      "\n",
      "Jumlah 20 suku pertama = 1090.0\n"
     ]
    }
   ],
   "source": [
    "def jumlah_aritmetika(a, d, n):\n",
    "    dua_a = 2 * a\n",
    "    beda_total = (n - 1) * d\n",
    "    dalam_kurung = dua_a + beda_total\n",
    "    jumlah = (n / 2) * dalam_kurung\n",
    "\n",
    "    print(f\"2a = {dua_a}\")\n",
    "    print(f\"(n - 1)d = ({n - 1}) * {d} = {beda_total}\")\n",
    "    print(f\"2a + (n - 1)d = {dalam_kurung}\")\n",
    "    print(f\"S_{n} = {n}/2 * {dalam_kurung} = {jumlah}\")\n",
    "    return jumlah\n",
    "\n",
    "a = 7\n",
    "d = 5\n",
    "n = 20\n",
    "\n",
    "hasil = jumlah_aritmetika(a, d, n)\n",
    "print(f\"\\nJumlah {n} suku pertama = {hasil}\")\n"
   ]
  },
  {
   "cell_type": "markdown",
   "id": "7f3a288f",
   "metadata": {},
   "source": [
    "---"
   ]
  },
  {
   "cell_type": "markdown",
   "id": "f5b68061",
   "metadata": {},
   "source": [
    "## *II.COMPLEX NUMBER*"
   ]
  },
  {
   "cell_type": "markdown",
   "id": "6e59f61b",
   "metadata": {},
   "source": [
    "Bilangan kompleks adalah himpunan bilangan terbesar. Himpunan bilangan real yang dipakai sehari-hari merupakan himpunan bagian dari himpunan bilangan kompleks. Secara umum bilangan kompleks terdiri dari dua bagian : bagian real dan bagian imajiner (khayal). Bagian khayal bercirikan hadirnya bilangan khayal i, yang didefinisikan sebagai i = $\\sqrt{1}$\n",
    "\n",
    "Dalam teori kontrol, sistem sering dikonversi dari domain waktu ke domain frekuensi menggunakan transformasi Laplace. Di bidang dinamika fluida, fungsi kompleks digunakan untuk menggambarkan aliran potensial dalam dua dimensi. Dalam teknik elektro, transformasi Fourier digunakan untuk menganalisis perubahan tegangan dan arus. Bilangan kompleks juga banyak digunakan dalam analisis sinyal untuk mendeskripsikan sinyal yang berulang secara periodik secara lebih praktis.\n",
    "\n",
    "Ketika kita membahas akar kuadrat dalam persamaan kuadrat, kita mengatakan akar kuadrat dari bilangan negatif, misalnya $\\sqrt{1}$, tidak ada karena tidak ada bilangan yang kuadratnya negatif (Faktanya, untuk semua bilangan riil x, x2 ≥ 0). Nah, ini hanya berlaku dalam konteks bilangan riil. Keterbatasan seperti itu berarti bahwa sistem bilangan riil tidak lengkap, karena operasi matematika bilangan, termasuk √, dapat mengarah pada sesuatu yang tidak termasuk dalam sistem bilangan."
   ]
  },
  {
   "cell_type": "markdown",
   "id": "1c90ffe7",
   "metadata": {},
   "source": [
    "---"
   ]
  },
  {
   "cell_type": "markdown",
   "id": "3b0b5469",
   "metadata": {},
   "source": [
    "### 1. Cartesian Complex Number (Bilangan Kompleks Kartesian)\n",
    "Bilangan kompleks memiliki berbagai penerapan dalam ilmu pengetahuan dan teknik, terutama dalam teori arus bolak-balik (AC) di bidang kelistrikan serta dalam analisis vektor mekanik. Terdapat dua bentuk utama dari bilangan kompleks: bentuk Kartesius (dinamai dari Descartes) dan bentuk polar.  \n",
    "\n",
    "Misalnya −1+j2 dan −1−j2\n",
    "\n",
    "Kedua solusi diatas berbentuk \\( a + jb \\), di mana ‘a’ disebut bagian real dan ‘jb’ merupakan bagian imajiner. Bilangan kompleks dalam bentuk \\( a + jb \\) dikenal sebagai bilangan kompleks dalam bentuk Kartesius.\n",
    "\n",
    "Dalam matematika murni, simbol \\( i \\) digunakan untuk menyatakan: $$\\sqrt{-1} \\tag{2.1} $$ Karena \\( i \\) adalah huruf pertama dari kata \"imaginary\" atau imajiner. \n",
    "\n",
    "\n"
   ]
  },
  {
   "cell_type": "markdown",
   "id": "6f9dedf7",
   "metadata": {},
   "source": [
    "---"
   ]
  },
  {
   "cell_type": "markdown",
   "id": "681c5f3b",
   "metadata": {},
   "source": [
    "### The Argand Diagram (Diagram Argand)\n",
    "\n",
    "Sebuah bilangan kompleks dapat direpresentasikan secara visual pada sumbu persegi panjang atau Kartesius. Sumbu horizontal (atau sumbu x) digunakan untuk menyatakan bagian real, sedangkan sumbu vertikal (atau sumbu y) digunakan untuk menyatakan bagian imajiner.\n",
    "\n",
    "Sumbu vertikal digunakan untuk merepresentasikan sumbu imajiner. Diagram semacam ini disebut **diagram Argand**, yang digunakan untuk memvisualisasikan bilangan kompleks dalam bidang dua dimensi."
   ]
  },
  {
   "cell_type": "markdown",
   "id": "2f70068f",
   "metadata": {},
   "source": [
    "---"
   ]
  },
  {
   "cell_type": "code",
   "execution_count": 2,
   "id": "efff246a",
   "metadata": {},
   "outputs": [
    {
     "data": {
      "image/png": "[encoded data removed]",
      "text/plain": [
       "<Figure size 640x480 with 1 Axes>"
      ]
     },
     "metadata": {},
     "output_type": "display_data"
    }
   ],
   "source": [
    "import matplotlib.pyplot as plt\n",
    "import numpy as np\n",
    "\n",
    "complex_numbers = [2 + 3j, -1 + 2j, -2 - 2j, 3 - 1j]\n",
    "fig, ax = plt.subplots()\n",
    "for z in complex_numbers:\n",
    "    ax.quiver(0, 0, z.real, z.imag, angles='xy', scale_units='xy', scale=1, color='blue')\n",
    "    ax.text(z.real, z.imag, f'{z}', fontsize=10, ha='right')\n",
    "\n",
    "ax.axhline(0, color='black', linewidth=0.5)\n",
    "ax.axvline(0, color='black', linewidth=0.5)\n",
    "ax.set_xlim(-3, 4)\n",
    "ax.set_ylim(-3, 4)\n",
    "ax.set_xlabel('Real')\n",
    "ax.set_ylabel('Imaginary')\n",
    "ax.set_title('Argand Diagram')\n",
    "ax.grid(True)\n",
    "ax.set_aspect('equal')\n",
    "\n",
    "plt.show()\n"
   ]
  },
  {
   "cell_type": "markdown",
   "id": "46ac244c",
   "metadata": {},
   "source": [
    "### 3. Addition and Substraction of Complex Numbers (Penjumlahan dan Pengurangan)\n",
    "\n",
    "Dua bilangan kompleks dijumlahkan atau dikurangkan dengan cara menjumlahkan atau mengurangkan bagian real dan bagian imajinernya secara terpisah.\n",
    "\n",
    "Sebagai contoh, jika:"
   ]
  },
  {
   "cell_type": "code",
   "execution_count": 6,
   "id": "83f1ee47",
   "metadata": {},
   "outputs": [
    {
     "name": "stdout",
     "output_type": "stream",
     "text": [
      "Misalkan dua bilangan kompleks:\n",
      "z1 = (3+4j)\n",
      "z2 = (1-2j)\n",
      "\n",
      "1. Penjumlahan\n",
      "z1 + z2 = ((3+4j)) + ((1-2j))\n",
      "           = (3.0 + 1.0) + (4.0i + -2.0i)\n",
      "           = 4.0 + 2.0i\n",
      " Hasil: z1 + z2 = (4+2j)\n",
      "\n",
      "2. Pengurangan\n",
      "z1 - z2 = ((3+4j)) - ((1-2j))\n",
      "           = (3.0 - 1.0) + (4.0i - (-2.0i))\n",
      "           = 2.0 + 6.0i\n",
      " Hasil: z1 - z2 = (2+6j)\n"
     ]
    }
   ],
   "source": [
    "\n",
    "z1 = 3 + 4j\n",
    "z2 = 1 - 2j\n",
    "\n",
    "sum_result = z1 + z2\n",
    "\n",
    "diff_result = z1 - z2\n",
    "\n",
    "print(\"Misalkan dua bilangan kompleks:\")\n",
    "print(f\"z1 = {z1}\")\n",
    "print(f\"z2 = {z2}\\n\")\n",
    "\n",
    "print(\"1. Penjumlahan\")\n",
    "print(f\"z1 + z2 = ({z1}) + ({z2})\")\n",
    "print(f\"           = ({z1.real} + {z2.real}) + ({z1.imag}i + {z2.imag}i)\")\n",
    "print(f\"           = {sum_result.real} + {sum_result.imag}i\")\n",
    "print(f\" Hasil: z1 + z2 = {sum_result}\\n\")\n",
    "\n",
    "print(\"2. Pengurangan\")\n",
    "print(f\"z1 - z2 = ({z1}) - ({z2})\")\n",
    "print(f\"           = ({z1.real} - {z2.real}) + ({z1.imag}i - ({z2.imag}i))\")\n",
    "print(f\"           = {diff_result.real} + {diff_result.imag}i\")\n",
    "print(f\" Hasil: z1 - z2 = {diff_result}\")\n"
   ]
  },
  {
   "cell_type": "markdown",
   "id": "75982b58",
   "metadata": {},
   "source": [
    "---"
   ]
  },
  {
   "cell_type": "markdown",
   "id": "82dc33a4",
   "metadata": {},
   "source": [
    "### 4. Multiplication and Division of Complex Numbers (Perkalian dan Pembagian)\n",
    "\n",
    "Perkalian bilangan kompleks dilakukan dengan menganggap semua komponen sebagai bilangan real terlebih dahulu, lalu menyederhanakannya menggunakan fakta bahwa 𝑗2 = −1\n",
    "\n",
    "Konjugasi kompleks dari suatu bilangan kompleks diperoleh dengan mengubah tanda bagian imajinernya. Jadi, konjugasi kompleks dari 𝑎 + 𝑗𝑏 adalag 𝑎 − 𝑗𝑏. Hasil perkalian antara suatu bilangan kompleks dan konjugasinya selalu menghasilkan bilangan real.\n",
    "\n",
    "Contoh:\n",
    "\\begin{aligned}\n",
    "(3 + j4)(3 - j4) &= 9 - j12 + j12 - j^2 \\cdot 16 \\\\\n",
    "&= 9 + 16 \\\\\n",
    "&= 25\n",
    "\\end{aligned}\n",
    "\n",
    "\n",
    "\n",
    "Pembagian bilangan kompleks dilakukan dengan mengalikan pembilang dan penyebut dengan konjugasi kompleks dari penyebut. Tujuannya adalah untuk menghilangkan bagian imajiner di penyebut, sehingga hasil akhirnya bisa disederhanakan.\n"
   ]
  },
  {
   "cell_type": "markdown",
   "id": "cc3acd1a",
   "metadata": {},
   "source": [
    "---"
   ]
  },
  {
   "cell_type": "markdown",
   "id": "ced74897",
   "metadata": {},
   "source": [
    "### 5. Complex Equations (Persamaan Kompleks)\n",
    "\n",
    "Jika dua bilangan kompleks bernilai sama, maka bagian real dari keduanya harus sama, dan bagian imajiner dari keduanya juga harus sama.\n",
    "Dengan kata lain, jika:\n",
    "\n",
    "$$ \\begin{aligned}\n",
    "𝑎\n",
    "+\n",
    "𝑗\n",
    "𝑏\n",
    "=\n",
    "𝑐\n",
    "+\n",
    "𝑗\n",
    "𝑑\n",
    "\\end{aligned}  \\tag{2.2}$$\n",
    "\n",
    "maka:\n",
    "\n",
    "$$ \\begin{aligned}\n",
    "𝑎\n",
    "=\n",
    "𝑐\n",
    "     dan \n",
    "𝑏\n",
    "=\n",
    "𝑑\n",
    "\\end{aligned} \\tag{2.3}"
   ]
  },
  {
   "cell_type": "markdown",
   "id": "7a95594b",
   "metadata": {},
   "source": [
    "---"
   ]
  },
  {
   "cell_type": "markdown",
   "id": "548bc22f",
   "metadata": {},
   "source": [
    "### 6. The Polar Form of A Complex Number (Bentuk Polar dari Bilangan Kompleks)\n",
    "\n",
    "Misalkan sebuah bilangan kompleks \\( z \\) adalah \\( x + jy \\), seperti yang ditunjukkan dalam diagram Argand pada Gambar 22.4. Jarak dari titik asal (O) ke titik \\( Z \\) adalah \\( r \\), dan sudut \\( \\theta \\) adalah sudut yang dibentuk oleh garis \\( OZ \\) dengan sumbu real positif.\n",
    "\n",
    "Sehingga, bilangan kompleks \\( Z \\) dapat ditulis sebagai:\n",
    "$$ \\begin{aligned}\n",
    "Z = x + jy = r \\cos \\theta + j r \\sin \\theta = r (\\cos \\theta + j \\sin \\theta)\n",
    "\\end{aligned} \\tag{2.4} $$\n",
    "\n",
    "\n",
    "Bentuk ini, yaitu \n",
    "$$ \\begin{aligned}\n",
    "Z = r (\\cos \\theta + j \\sin \\theta)\n",
    "\\end{aligned} \\tag{2.5} $$\n",
    "\n",
    "Sering disingkat menjadi \n",
    "$$ \\begin{aligned}\n",
    "Z = r \\angle \\theta\n",
    "\\end{aligned} \\tag{2.6} $$\n",
    "\n",
    "Yang dikenal sebagai bentuk polar dari bilangan kompleks.\n",
    "\n",
    "𝑟 disebut sebagai modulus (atau magnitudo) dari 𝑍 dan ditulis sebagai mod 𝑍 atau ∣𝑍∣. Nilai 𝑟 ditentukan dengan menggunakan teorema Pythagoras pada segitiga OAZ.\n",
    "\n",
    "$$ \\begin{aligned}\n",
    "r= \n",
    "\\sqrt{x^2 + y^2}\n",
    " \\end{aligned} \\tag{2.7} $$\n",
    "​\n",
    " \n",
    "𝜃 disebut sebagai argumen (atau amplitudo) dari 𝑍 dan ditulis sebagai arg 𝑍. Dengan menggunakan trigonometri pada segitiga OAZ,\n",
    "\n",
    "$$ \\begin{aligned}\n",
    "arg\n",
    " \n",
    "𝑍\n",
    "=\n",
    "𝜃\n",
    "=\n",
    "tan^−1\n",
    "\\frac{y}{x}\n",
    "​\\end{aligned} \\tag{2.8} $$\n",
    "\n",
    "Saat beralih dari bentuk Kartesian ke bentuk polar, atau sebaliknya, sebuah gambar sangat berguna untuk menentukan kuadran tempat bilangan kompleks berada."
   ]
  },
  {
   "cell_type": "markdown",
   "id": "cb1127de",
   "metadata": {},
   "source": [
    "---"
   ]
  },
  {
   "cell_type": "markdown",
   "id": "de589c30",
   "metadata": {},
   "source": [
    "### 7. Multiplication and Division in Polar Form (Perkalian dan Pembagian dalam Bentuk Polar)\n",
    "\n",
    "Jika \n",
    "\n",
    "$$ \\begin{aligned}\n",
    "Z_1 = r_1 \\angle \\theta_1  dan  Z_2 = r_2 \\angle \\theta_2 \n",
    "\\end{aligned} \\tag{2.9} $$\n",
    "\n",
    "maka:\n",
    " \n",
    "$$ \\begin{aligned}\n",
    "Z_1 \\cdot Z_2 = r_1 r_2 \\angle (\\theta_1 + \\theta_2)\n",
    "\\end{aligned} \\tag{2.10} $$\n",
    "\n",
    "Artinya, hasil perkalian dua bilangan kompleks dalam bentuk polar adalah hasil perkalian magnitudo (modulus) kedua bilangan kompleks, dan argumen hasil perkalian adalah jumlah dari argumen kedua bilangan tersebut.\n",
    "\n",
    "$$ \\begin{aligned}\n",
    "\\frac{Z_1}{Z_2} = \\frac{r_1}{r_2} \\angle (\\theta_1 - \\theta_2)\n",
    "\\end{aligned} \\tag{2.11} $$\n",
    "Artinya, hasil pembagian dua bilangan kompleks dalam bentuk polar adalah hasil pembagian magnitudo (modulus) kedua bilangan kompleks, dan argumen hasil pembagian adalah selisih antara argumen kedua bilangan tersebut."
   ]
  },
  {
   "cell_type": "markdown",
   "id": "469aa29f",
   "metadata": {},
   "source": [
    "---"
   ]
  },
  {
   "cell_type": "markdown",
   "id": "53cec8d8",
   "metadata": {},
   "source": [
    "\n",
    "### 8. Application of Complex Numbers (Pengaplikasian Bilangan Kompleks)\n",
    "\n",
    "Bilangan kompleks memiliki berbagai aplikasi dalam ilmu pengetahuan dan rekayasa, terutama dalam teori arus bolak-balik (AC) dan analisis vektor mekanik.\n",
    "\n",
    "Efek dari mengalikan sebuah fasor dengan \n",
    "𝑗 adalah memutarnya dalam arah positif (yaitu, berlawanan arah jarum jam) pada diagram Argand melalui 90° tanpa mengubah panjangnya. Demikian pula, mengalikan fasor dengan −𝑗 akan memutarnya melalui −90∘. Fakta ini digunakan dalam teori arus bolak-balik (AC) karena beberapa kuantitas dalam diagram fasor terletak pada sudut 90° satu sama lain.\n"
   ]
  },
  {
   "cell_type": "markdown",
   "id": "02b5f941",
   "metadata": {},
   "source": [
    "---"
   ]
  },
  {
   "cell_type": "markdown",
   "id": "c95739e5",
   "metadata": {},
   "source": [
    "## CONTOH SOAL"
   ]
  },
  {
   "cell_type": "markdown",
   "id": "eecd91cb",
   "metadata": {},
   "source": [
    "1. Selesaikan persamaan kuadrat berikut:\n",
    "\n",
    "\\begin{aligned}\n",
    "x^2 + 25 = 0\n",
    "\\end{aligned}"
   ]
  },
  {
   "cell_type": "code",
   "execution_count": 3,
   "id": "92774b26",
   "metadata": {},
   "outputs": [
    {
     "name": "stdout",
     "output_type": "stream",
     "text": [
      "Solusi persamaan x^2 + 25 = 0 adalah:\n",
      "x1 = 5j\n",
      "x2 = -5j\n"
     ]
    }
   ],
   "source": [
    "\n",
    "import cmath\n",
    "\n",
    "a = 1\n",
    "b = 0\n",
    "c = 25\n",
    "\n",
    "discriminant = cmath.sqrt(b**2 - 4*a*c)\n",
    "x1 = (-b + discriminant) / (2*a)\n",
    "x2 = (-b - discriminant) / (2*a)\n",
    "\n",
    "print(\"Solusi persamaan x^2 + 25 = 0 adalah:\")\n",
    "print(f\"x1 = {x1}\")\n",
    "print(f\"x2 = {x2}\")\n"
   ]
  },
  {
   "cell_type": "markdown",
   "id": "23570ec8",
   "metadata": {},
   "source": [
    "---"
   ]
  },
  {
   "cell_type": "markdown",
   "id": "acac6a23",
   "metadata": {},
   "source": [
    "## **Trigonometri** \n",
    "\n",
    "## 1. Pengantar Trigonometri\n",
    "Trigonometri adalah cabang matematika yang mempelajari hubungan antara sudut dan panjang sisi dalam segitiga, khususnya segitiga siku-siku (segitiga dengan satu sudut 90°). Trigonometri berasal dari bahasa Yunani:\n",
    "\n",
    "Trigonon = tiga sudut (segitiga)\n",
    "\n",
    "Metron = ukuran\n",
    "\n",
    "Pada dasarnya, trigonometri digunakan untuk menganalisis hubungan geometris dalam segitiga dan fenomena periodik seperti gelombang dan getaran.\n",
    "\n",
    "## 2. fungsi trigonometri\n",
    "\n",
    "Dalam trigonometri, terdapat beberapa fungsi yang mendefinisikan hubungan antara sudut dan sisi segitiga siku-siku:\n",
    "\n",
    "1. Sinus (sin):\n",
    "Fungsi sinus menghubungkan sudut dengan sisi depan (sisi yang berhadapan dengan sudut) dan sisi mirin(hipotenusa, sisi paling panjang dalam segitiga siku-siku).  $$\\sin(\\theta) = \\dfrac{\\text{sisi depan}}{\\text{sisi miring}} \\tag{1.1}$$\n",
    "2. Kosinus (cos):\n",
    "Fungsi kosinus menghubungkan sudut dengan sisi samping (sisi yang berdekatan dengan sudut) dan sisi miring.  $$\\cos(\\theta) = \\dfrac{\\text{sisi samping}}{\\text{sisi miring}}\\tag{1.2}$$\n",
    "\n",
    "3. Tangen (tan):\n",
    "Fungsi tangen menghubungkan sudut dengan sisi depan dan sisi samping.  $$\\tan(\\theta) = \\dfrac{\\text{sisi depan}}{\\text{sisi samping}}\\tag{1.3}$$\n",
    "\n",
    "4. Sekan (sec)\n",
    "Fungsi sekan suatu sudut adalah kebalikan dari kosinus, yang didefinisikan sebagai rasio antara sisi miring (hipotenusa) dengan sisi yang bersebelahan dengan sudut tersebut. $$\\sec(\\theta) = \\dfrac{\\text{1}}{\\text{cos}(\\theta)}\\tag{1.4}$$\n",
    "\n",
    "5. Kosekan (csc)\n",
    "Fungsi kosekan suatu sudut adalah kebalikan dari sinus, yang didefinisikan sebagai rasio antara sisi miring (hipotenusa) dengan sisi yang berhadapan dengan sudut tersebut. $$\\csc(\\theta) = \\dfrac{\\text{1}}{\\text{cos}(\\theta)}\\tag{1.5}$$\n",
    "\n",
    "6. Kotangen (cot)\n",
    "Fungsi kotangen suatu sudut adalah kebalikan dari tangen, yang didefinisikan sebagai rasio antara sisi yang bersebelahan dengan sudut tersebut (sisi samping) dan sisi yang berhadapan dengan sudut tersebut (sisi depan). $$\\cot(\\theta) = \\dfrac{\\text{1}}{\\text{tan}(\\theta)}= \\dfrac{\\text{cos}(\\theta)}{\\text{sin}(\\theta)}\\tag{1.6}$$\n",
    "\n",
    "\n",
    "\n",
    "\n",
    "## 3. Hubungan Identitas Trigonometri\n",
    "Identitas Trigonometri adalah persamaan yang berlaku untuk semua nilai variabel yang memenuhi persamaan tersebut, di mana identitas ini menghubungkan fungsi-fungsi trigonometri yang satu dengan yang lainnya. Identitas trigonometri sangat berguna untuk menyederhanakan perhitungan, memecahkan soal-soal trigonometri, serta membuktikan beberapa sifat matematika dalam geometri dan analisis matematika.\n",
    "\n",
    "Identitas trigonometri sering digunakan untuk mengganti satu fungsi trigonometri dengan fungsi lainnya, atau untuk menyederhanakan ekspresi trigonometri yang rumit.\n",
    "\n",
    "1. identitas pythagoras\n",
    "\n",
    "Identitas ini merupakan dasar dari trigonometri dan menunjukkan hubungan antara fungsi sinus, kosinus, dan tangen dalam segitiga siku-siku.\n",
    "\n",
    "$\\sin^2(\\theta) + \\cos^2(\\theta) = 1$\n",
    "\n",
    "2. Identitas Tangen\n",
    "\n",
    "Identitas ini menghubungkan fungsi tangen dengan sinus dan kosinus\n",
    "\n",
    "3. Identitas Sekan dan Kosekan\n",
    "\n",
    "Identitas ini menghubungkan fungsi sekans dan kosekan dengan sinus dan kosinus:\n",
    "\n",
    "4. identitas cotagen\n",
    "\n",
    "Fungsi ini digunakan untuk menghubungkan sudut segitiga dengan rasio sisi-sisinya.\n",
    "\n",
    "5. Identitas Penjumlahan dan Pengurangan\n",
    "\n",
    "Identitas penjumlahan dan pengurangan digunakan untuk menghitung nilai fungsi trigonometri dari jumlah atau selisih dua sudut. Identitas ini sangat berguna dalam menyelesaikan soal-soal yang melibatkan fungsi trigonometri dari dua sudut.\n",
    "\n",
    "6. Identitas Ganda \n",
    "\n",
    "Identitas ganda digunakan untuk menghitung nilai fungsi trigonometri dari dua kali sudut. Identitas ini sangat berguna dalam menyederhanakan ekspresi yang melibatkan dua kali sudut.\n",
    "\n",
    "7. identitas Setengah Sudut \n",
    "\n",
    "Identitas setengah sudut digunakan untuk menghitung nilai fungsi trigonometri dari setengah sudut.\n",
    "\n",
    "## 4. Grafik Fungsi Trigonometri\n",
    "Fungsi trigonometri bersifat periodik, artinya nilainya akan berulang dalam interval tertentu.\n",
    "\n",
    "Fungsi $\\sin(x)$ dan $\\cos(x)$:\n",
    "\n",
    "Periode: $2\\pi$\n",
    "\n",
    "Amplitudo: 1\n",
    "\n",
    "$\\sin(0) = 0$, $\\cos(0) = 1$\n",
    "\n",
    "Fungsi $\\tan(x)$:\n",
    "\n",
    "Periode: $\\pi$\n",
    "\n",
    "Asimtot: muncul setiap $x = \\dfrac{\\pi}{2} + n\\pi$\n",
    "\n",
    "## 5. Aplikasi dalam Kehidupan\n",
    "-Trigonometri digunakan dalam banyak bidang kehidupan nyata, seperti:\n",
    "\n",
    "-Teknik sipil → menghitung kemiringan atap, tinggi bangunan\n",
    "\n",
    "-Navigasi → menentukan posisi kapal atau pesawat\n",
    "\n",
    "-Astronomi → menghitung jarak antar planet/bintang\n",
    "\n",
    "-Fisika → analisis gelombang, suara, cahaya\n",
    "\n",
    "\n"
   ]
  },
  {
   "cell_type": "markdown",
   "id": "59d452f2",
   "metadata": {},
   "source": [
    "## CONTOH SOAL"
   ]
  },
  {
   "cell_type": "markdown",
   "id": "11f9e988",
   "metadata": {},
   "source": [
    "1. Verifikasi identitas pythagoras"
   ]
  },
  {
   "cell_type": "code",
   "execution_count": 3,
   "id": "81041ef8",
   "metadata": {},
   "outputs": [
    {
     "name": "stdout",
     "output_type": "stream",
     "text": [
      "sin²(60°) = 0.7500\n",
      "cos²(60°) = 0.2500\n",
      "sin² + cos² = 1.0000 (harus ≈ 1)\n"
     ]
    }
   ],
   "source": [
    "import math\n",
    "\n",
    "theta_deg = 60\n",
    "theta_rad = math.radians(theta_deg)\n",
    "\n",
    "sin_theta = math.sin(theta_rad)\n",
    "cos_theta = math.cos(theta_rad)\n",
    "\n",
    "identitas = sin_theta**2 + cos_theta**2\n",
    "\n",
    "print(f\"sin²({theta_deg}°) = {sin_theta**2:.4f}\")\n",
    "print(f\"cos²({theta_deg}°) = {cos_theta**2:.4f}\")\n",
    "print(f\"sin² + cos² = {identitas:.4f} (harus ≈ 1)\")\n"
   ]
  },
  {
   "cell_type": "markdown",
   "id": "1269519a",
   "metadata": {},
   "source": [
    "2. Hitung nilai cotangen 30"
   ]
  },
  {
   "cell_type": "code",
   "execution_count": 4,
   "id": "2a8c9709",
   "metadata": {},
   "outputs": [
    {
     "name": "stdout",
     "output_type": "stream",
     "text": [
      "cot(30°) = 1.7321\n"
     ]
    }
   ],
   "source": [
    "theta_deg = 30\n",
    "theta_rad = math.radians(theta_deg)\n",
    "\n",
    "sin_theta = math.sin(theta_rad)\n",
    "cos_theta = math.cos(theta_rad)\n",
    "\n",
    "cot_theta = cos_theta / sin_theta\n",
    "print(f\"cot({theta_deg}°) = {cot_theta:.4f}\")\n"
   ]
  },
  {
   "cell_type": "markdown",
   "id": "8c44ee42",
   "metadata": {},
   "source": [
    "3. Selesaikan segitiga siku siku"
   ]
  },
  {
   "cell_type": "code",
   "execution_count": 5,
   "id": "3a97770c",
   "metadata": {},
   "outputs": [
    {
     "name": "stdout",
     "output_type": "stream",
     "text": [
      "Sisi miring = 5.00\n",
      "Sudut di depan sisi depan = 36.87°\n"
     ]
    }
   ],
   "source": [
    "# Diketahui: sisi depan = 3, sisi samping = 4\n",
    "# Hitung sisi miring dan sudut\n",
    "\n",
    "depan = 3\n",
    "samping = 4\n",
    "miring = math.hypot(depan, samping)  # sama dengan sqrt(3**2 + 4**2)\n",
    "\n",
    "# Hitung sudut\n",
    "sudut_rad = math.atan(depan / samping)\n",
    "sudut_derajat = math.degrees(sudut_rad)\n",
    "\n",
    "print(f\"Sisi miring = {miring:.2f}\")\n",
    "print(f\"Sudut di depan sisi depan = {sudut_derajat:.2f}°\")\n"
   ]
  },
  {
   "cell_type": "markdown",
   "id": "0a39bf17",
   "metadata": {},
   "source": [
    "4. identias sudut ganda"
   ]
  },
  {
   "cell_type": "code",
   "execution_count": 6,
   "id": "8e096f08",
   "metadata": {},
   "outputs": [
    {
     "name": "stdout",
     "output_type": "stream",
     "text": [
      "sin(2θ) = 1.0000\n",
      "cos(2θ) = 0.0000\n"
     ]
    }
   ],
   "source": [
    "theta_deg = 45\n",
    "theta_rad = math.radians(theta_deg)\n",
    "\n",
    "sin_theta = math.sin(theta_rad)\n",
    "cos_theta = math.cos(theta_rad)\n",
    "\n",
    "sin_2theta = 2 * sin_theta * cos_theta\n",
    "cos_2theta = cos_theta**2 - sin_theta**2\n",
    "\n",
    "print(f\"sin(2θ) = {sin_2theta:.4f}\")\n",
    "print(f\"cos(2θ) = {cos_2theta:.4f}\")\n"
   ]
  },
  {
   "cell_type": "markdown",
   "id": "a098d540",
   "metadata": {},
   "source": [
    "#  **4 DIFFERENTIATION**\n",
    "### **4.1 Gradien**\n",
    "Gradien adalah konsep yang mengukur tingkat perubahan suatu fungsi pada titik tertentu. Dalam ruang dua dimensi (2D), gradien mencerminkan kemiringan garis singgung terhadap kurva suatu fungsi pada titik tertentu. Dalam ruang tiga dimensi (3D) atau lebih, gradien melibatkan vektor yang menunjukkan arah perubahan maksimum dari suatu fungsi.\n",
    "\n",
    "1. Definisi Gradien pada Fungsi Sederhana\n",
    "Untuk fungsi satu variabel $ f(x) $, gradien adalah nilai turunan fungsi tersebut: $$ \\text{Gradien} = f'(x) = \\lim_{h \\to 0} \\frac{f(x+h) - f(x)}{h} \\tag{4.1}$$\n"
   ]
  },
  {
   "cell_type": "markdown",
   "id": "ed77e9b3",
   "metadata": {},
   "source": [
    "\n",
    "2. Gradien dalam Ruang Dua Dimensi (2D)\n",
    "Jika kita memiliki fungsi $ f(x, y) $, gradien dalam ruang 2D adalah vektor yang terdiri dari turunan parsial terhadap ( x ) dan ( y ): $$ \\text{Gradien: } \\nabla f(x, y) = \\left( \\frac{\\partial f}{\\partial x}, \\frac{\\partial f}{\\partial y} \\right) \\tag{4.2}$$\n",
    "\n",
    "  Gradien ini menunjukkan arah perubahan maksimum fungsi $ f(x, y) $, dengan panjang vektor mencerminkan besar perubahan.\n"
   ]
  },
  {
   "cell_type": "markdown",
   "id": "77008422",
   "metadata": {},
   "source": [
    "3. Gradien dalam Ruang Tiga Dimensi (3D)\n",
    "Untuk fungsi $ f(x, y, z) $, gradien adalah: $$ \\text{Gradien: } \\nabla f(x, y, z) = \\left( \\frac{\\partial f}{\\partial x}, \\frac{\\partial f}{\\partial y}, \\frac{\\partial f}{\\partial z} \\right) \\tag{4.3}$$\n"
   ]
  },
  {
   "cell_type": "markdown",
   "id": "ed9d5ec7",
   "metadata": {},
   "source": [
    "\n",
    "4. Interpretasi Geometris\n",
    "- Gradien menunjukkan arah perubahan maksimum fungsi pada titik tertentu.\n",
    "- Gradien selalu tegak lurus terhadap garis kontur atau permukaan dengan nilai fungsi konstan.\n",
    "  \n"
   ]
  },
  {
   "cell_type": "markdown",
   "id": "c85ea4e6",
   "metadata": {},
   "source": [
    "  Contoh Soal: Gradien pada Fungsi 2D\n",
    "Diberikan fungsi $ f(x, y) = 3x^2 $. Hitung gradien fungsi tersebut.\n",
    "Penyelesaian: Turunan parsial terhadap ( x ): $$ \\frac{\\partial f}{\\partial x} = 6x \\tag{4.4}$$\n",
    "\n",
    "Turunan parsial terhadap ( y ): $$ \\frac{\\partial f}{\\partial y} = 8y \\tag{4.5}$$\n",
    "\n",
    "Gradiennya adalah: $$ \\nabla f(x, y) = (6x, 8y) \\tag{4.6}$$\n"
   ]
  },
  {
   "cell_type": "markdown",
   "id": "50813cd2",
   "metadata": {},
   "source": [
    "   Aplikasi Gradien :\n",
    "- Menentukan arah perubahan maksimum fungsi di bidang atau ruang.\n",
    "- Optimalisasi fungsi, seperti dalam perhitungan maksimum dan minimum.\n",
    "- Studi aliran panas atau gradien potensial gravitasi dalam geofisika.\n"
   ]
  },
  {
   "cell_type": "markdown",
   "id": "a35b144f",
   "metadata": {},
   "source": [
    "\n",
    "# **6.2 ATURAN DIFERENTIATION**\n",
    "Tentu, saya akan memberikan penjelasan yang lebih mendalam tentang setiap aturan diferensial sehingga Anda lebih memahami konsepnya.\n",
    "\n",
    "1. Aturan Konstanta\n",
    "- Penjelasan: Jika Anda memiliki fungsi yang konstan, artinya nilainya tidak berubah untuk setiap nilai $ x $, maka tingkat perubahannya (turunannya) adalah nol. Contoh, jika $ f(x) = 5 $, maka grafiknya adalah garis horizontal, dan garis horizontal tidak memiliki kemiringan (gradien = 0).\n",
    "- Contoh: $$ \\frac{d}{dx}[5] = 0 \\tag{4.7}$$\n"
   ]
  },
  {
   "cell_type": "markdown",
   "id": "fff09c4b",
   "metadata": {},
   "source": [
    "\n",
    "2. Aturan Pangkat\n",
    "- Penjelasan: Jika sebuah fungsi memiliki bentuk $( x^n )$, di mana $( n )$ adalah pangkat, maka turunannya ditemukan dengan menurunkan pangkat tersebut dan mengurangi satu dari pangkat awal. Ini adalah salah satu aturan paling dasar dalam diferensiasi.\n",
    "- Contoh: \n",
    "  $$ \\frac{d}{dx}[x^3] = 3x^{3-1} = 3x^2 \\tag{4.8}$$\n",
    "\n",
    "\n"
   ]
  },
  {
   "cell_type": "markdown",
   "id": "cb7e6df5",
   "metadata": {},
   "source": [
    "\n",
    "3. Aturan Penjumlahan\n",
    "- Penjelasan: Jika Anda memiliki dua fungsi yang dijumlahkan, maka turunan dari jumlahnya sama dengan jumlah dari turunannya. Sederhananya, Anda dapat menghitung turunan setiap fungsi secara terpisah dan menjumlahkannya.\n",
    "- Contoh: \n",
    "  Jika\n",
    "  $$ \\frac{d}{dx}[u(x) + v(x)] = \\frac{d}{dx}[u(x)] + \\frac{d}{dx}[v(x)] \\tag{4.9}$$ \n",
    "\n",
    "\n"
   ]
  },
  {
   "cell_type": "markdown",
   "id": "b3b93a02",
   "metadata": {},
   "source": [
    "\n",
    "4. Aturan Perkalian\n",
    "- Penjelasan: Ketika Anda memiliki dua fungsi yang dikalikan, turunan dari perkalian tersebut ditemukan dengan menggunakan aturan berikut: \n",
    "  Formula: $$ \\frac{d}{dx}[u(x) \\cdot v(x)] = u'(x) \\cdot v(x) + u(x) \\cdot v'(x) \\tag{4.10}$$\n",
    "  Contoh: \n",
    "  \n",
    "Jika \n",
    "  $$ f'(x) = \\frac{d}{dx}[x^2] \\cdot \\sin(x) + x^2 \\cdot \\frac{d}{dx}[\\sin(x)] \\tag{4.11}$$  \n",
    "  \n",
    "  Maka\n",
    "$$ f'(x) = 2x \\cdot \\sin(x) + x^2 \\cdot \\cos(x) \\tag{4.12}$$\n",
    "\n",
    "\n"
   ]
  },
  {
   "cell_type": "markdown",
   "id": "80b489f2",
   "metadata": {},
   "source": [
    "\n",
    "5. Aturan Pembagian\n",
    "  Jika terdapat 2 fungsi yang akan di bagi, maka turunan dari pembagian tersebut \n",
    "  dihitung dengan aturan : \n",
    "  turunkan fungsi pembilang, kalikan dengan fungsi penyebut, lalu kurangi hasil turunan fungsi penyebut dikalikan dengan fungsi pembilang,semuanya dibagi oleh kuadrat penyebut.\n",
    "  Formula: \n",
    "  $$ \\frac{d}{dx}\\left[\\frac{u(x)}{v(x)}\\right] = \\frac{u'(x) \\cdot v(x) - u(x) \\cdot v'(x)}{[v(x)]^2} \\tag{4.13}$$\n",
    "\n",
    "  Contoh: \n",
    "\n",
    "   Jika  \n",
    "   $$ f(x) = \\frac{x^3}{\\cos(x)} \\tag{4.14}$$\n",
    "  \n",
    "   $$ f'(x) = \\frac{\\frac{d}{dx}x^3  \\cdot\\cos(x) -x^3\\cdot\\frac{d}{dx}[\\cos(x)]}{[\\cos(x)]^2} $$\n",
    "   \n",
    "   $$f'(x) = \\frac{3x^2\\cdot \\cos(x) + x^3 \\cdot \\sin(x)}{[\\cos(x)]^2} \\tag{4.15}$$"
   ]
  },
  {
   "cell_type": "markdown",
   "id": "fd9edaec",
   "metadata": {},
   "source": [
    "\n",
    "6. Aturan Rantai\n",
    "- Penjelasan: Aturan rantai digunakan untuk fungsi komposisi, yaitu fungsi yang berada di dalam fungsi lain, seperti $ g(h(x)) $. Ketika Anda ingin menghitung turunannya, Anda pertama-tama menurunkan fungsi luar, lalu mengalikan dengan turunan fungsi dalam.\n",
    "  - Formula: $$ \\frac{d}{dx}[g(h(x))] = g'(h(x)) \\cdot h'(x) \\tag{4.16}$$\n",
    "- Contoh: \n",
    "  Jika $$ f(x) = \\sqrt{\\sin(x)} \\tag{4.17}$$ \n",
    "\n",
    "  maka: $$ f'(x) = \\frac{1}{2\\sqrt{\\sin(x)}} \\cdot \\frac{d}{dx}[\\sin(x)] \\tag{4.18}$$ \n",
    "  \n",
    "  $$ f'(x) = \\frac{\\cos(x)}{2\\sqrt{\\sin(x)}} \\tag{4.19}$$"
   ]
  },
  {
   "cell_type": "markdown",
   "id": "87c87c76",
   "metadata": {},
   "source": [
    "\n",
    "# **4.3 PARTIAL DIFFERENTIATION**\n",
    "**Diferensial Parsial**\n",
    "Diferensial parsial adalah turunan dari fungsi multivariabel terhadap salah satu variabel independennya, sementara variabel lainnya dianggap tetap (konstan). Konsep ini sering digunakan dalam ilmu fisika, teknik, dan matematika untuk memodelkan sistem yang melibatkan banyak variabel.\n",
    "\n",
    "1. Definisi\n",
    "Misalkan kita memiliki fungsi multivariabel $ f(x, y) $. Diferensial parsial terhadap $( x )$ dituliskan sebagai: $$ \\frac{\\partial f}{\\partial x} = \\lim_{h \\to 0} \\frac{f(x+h, y) - f(x, y)}{h} \\tag{4.20}$$\n",
    "Sementara diferensial parsial terhadap $ (y) $ adalah: $$ \\frac{\\partial f}{\\partial y} = \\lim_{h \\to 0} \\frac{f(x, y+h) - f(x, y)}{h} \\tag{4.21}$$\n",
    "\n"
   ]
  },
  {
   "cell_type": "markdown",
   "id": "ad2b27ea",
   "metadata": {},
   "source": [
    "\n",
    "\n",
    "2. Gradien dan Diferensial Parsial\n",
    "Gradien dari suatu fungsi multivariabel $ f(x, y) $ merupakan vektor yang terdiri dari semua diferensial parsial: $$ \\nabla f(x, y) = \\left( \\frac{\\partial f}{\\partial x}, \\frac{\\partial f}{\\partial y} \\right) \\tag{4.22}$$\n",
    "\n"
   ]
  },
  {
   "cell_type": "markdown",
   "id": "eed28fb0",
   "metadata": {},
   "source": [
    "\n",
    "3. Notasi Diferensial Parsial\n",
    "Ada beberapa cara untuk menuliskan diferensial parsial:\n",
    "- Notasi Leibniz: $$ \\frac{\\partial f}{\\partial x}, \\quad \\frac{\\partial f}{\\partial y} \\tag{4.23}$$\n",
    "- Notasi Euler: $$ f_x, \\quad f_y \\tag{4.24}$$\n"
   ]
  },
  {
   "cell_type": "markdown",
   "id": "81740575",
   "metadata": {},
   "source": [
    "\n",
    "   Contoh Soal\n",
    "Misalkan terdapat fungsi dua variabel: $ f(x, y) = x^2y + 4xy^3 - \\sin(xy) $ Hitung:\n",
    "- Turunan parsial terhadap $ x $: $ \\frac{\\partial f}{\\partial x} $.\n",
    "- Turunan parsial terhadap $ y $: $ \\frac{\\partial f}{\\partial y} $."
   ]
  },
  {
   "cell_type": "code",
   "execution_count": 31,
   "id": "2770a0ff",
   "metadata": {},
   "outputs": [
    {
     "name": "stdout",
     "output_type": "stream",
     "text": [
      "Turunan parsial terhadap x:\n",
      "2*x*y + 4*y^3 - y*cos(x*y)\n",
      "\n",
      "Turunan parsial terhadap y:\n",
      "x^2 + 12*x*y^2 - x*cos(x*y)\n"
     ]
    }
   ],
   "source": [
    "import sympy as sp\n",
    "\n",
    "# Definisikan variabel simbolik\n",
    "x, y = sp.symbols('x y')\n",
    "\n",
    "# Definisikan fungsi\n",
    "f = x**2 * y + 4*x*y**3 - sp.sin(x*y)\n",
    "\n",
    "# Hitung turunan parsial terhadap x dan y\n",
    "df_dx = sp.diff(f, x)\n",
    "df_dy = sp.diff(f, y)\n",
    "\n",
    "# Format ekspresi dengan pangkat ^ seperti dalam sintaks biasa\n",
    "def format_expression(expr):\n",
    "    return str(expr).replace(\"**\", \"^\")\n",
    "\n",
    "# Cetak hasil dengan pangkat ^\n",
    "print(\"Turunan parsial terhadap x:\")\n",
    "print(format_expression(df_dx))\n",
    "\n",
    "print(\"\\nTurunan parsial terhadap y:\")\n",
    "print(format_expression(df_dy))"
   ]
  },
  {
   "cell_type": "markdown",
   "id": "5e5bc512",
   "metadata": {},
   "source": [
    "\n",
    "5. Aplikasi Diferensial Parsial\n",
    "Diferensial parsial digunakan dalam:\n",
    "- Geofisika: Untuk menganalisis distribusi panas, tekanan, dan medan gravitasi.\n",
    "- Fluida Dinamik: Memodelkan aliran fluida melalui persamaan Navier-Stokes.\n",
    "- Optimisasi: Menentukan titik kritis fungsi multivariabel.\n",
    "\n"
   ]
  },
  {
   "cell_type": "markdown",
   "id": "fce8ef47",
   "metadata": {},
   "source": [
    "\n",
    "# **4.4 MAXIMA DAN MINIMA**\n",
    "\n",
    "**Maxima atau Minima**\n",
    "Maxima dan minima adalah titik-titik di mana fungsi mencapai nilai maksimum atau minimum, baik secara lokal (di sekitar titik tersebut) maupun global (di seluruh domain fungsi). Untuk menemukan titik-titik ini, kita menggunakan turunan dan analisis pada fungsi.\n",
    "\n"
   ]
  },
  {
   "cell_type": "markdown",
   "id": "d7bc4a10",
   "metadata": {},
   "source": [
    "\n",
    "1. Titik Kritis\n",
    "Titik kritis terjadi ketika turunan pertama suatu fungsi sama dengan nol atau tidak terdefinisi. Secara matematis: $ f'(x) = 0 \\quad \\text{atau} \\quad f'(x) , \\text{tidak terdefinisi} $\n",
    "\n",
    "\n"
   ]
  },
  {
   "cell_type": "markdown",
   "id": "1a483022",
   "metadata": {},
   "source": [
    "\n",
    "2. Uji Turunan Kedua\n",
    "Untuk menentukan apakah titik kritis adalah maksimum, minimum, atau titik belok, kita memeriksa turunan kedua:\n",
    "\n",
    "$\n",
    "\\begin{aligned}\n",
    "&\\text{Jika } f''(x) > 0, \\text{ maka minimum lokal}. \\\\\n",
    "&\\text{Jika } f''(x) < 0, \\text{ maka maksimum lokal}. \\\\\n",
    "&\\text{Jika } f''(x) = 0, \\text{ maka titik belok}.\n",
    "\\end{aligned}\n",
    "$\n",
    "\n"
   ]
  },
  {
   "cell_type": "markdown",
   "id": "bf1edb92",
   "metadata": {},
   "source": [
    "\n",
    "   Contoh Soal\n",
    "Diberikan fungsi: $ f(x) = x2 + 2 $ Tentukan:\n",
    "- Titik kritis dari fungsi tersebut.\n",
    "- Apakah titik kritis merupakan maksimum lokal, minimum lokal, atau titik belok berdasarkan uji turunan kedua."
   ]
  },
  {
   "cell_type": "code",
   "execution_count": null,
   "id": "d1068cee",
   "metadata": {},
   "outputs": [
    {
     "name": "stdout",
     "output_type": "stream",
     "text": [
      "Titik kritis: [0, 2]\n",
      "Titik x = 0 adalah Maksimum Lokal\n",
      "Titik x = 2 adalah Minimum Lokal\n"
     ]
    },
    {
     "data": {
      "image/png": "[encoded data removed]",
      "text/plain": [
       "<Figure size 800x600 with 1 Axes>"
      ]
     },
     "metadata": {},
     "output_type": "display_data"
    }
   ],
   "source": [
    "import numpy as np\n",
    "import sympy as sp\n",
    "import matplotlib.pyplot as plt\n",
    "\n",
    "# Definisikan variabel simbolik\n",
    "x = sp.Symbol('x')\n",
    "\n",
    "# Definisikan fungsi\n",
    "f = x**3 - 3*x**2 + 2\n",
    "\n",
    "# Hitung turunan pertama\n",
    "f_prime = sp.diff(f, x)\n",
    "\n",
    "# Hitung turunan kedua\n",
    "f_double_prime = sp.diff(f_prime, x)\n",
    "\n",
    "# Cari titik kritis (solusi dari f'(x) = 0)\n",
    "critical_points = sp.solve(f_prime, x)\n",
    "\n",
    "# Evaluasi turunan kedua di titik kritis\n",
    "critical_info = []\n",
    "for cp in critical_points:\n",
    "    second_derivative_value = f_double_prime.subs(x, cp)\n",
    "    if second_derivative_value > 0:\n",
    "        nature = \"Minimum Lokal\"\n",
    "    elif second_derivative_value < 0:\n",
    "        nature = \"Maksimum Lokal\"\n",
    "    else:\n",
    "        nature = \"Titik Belok\"\n",
    "    critical_info.append((cp, nature))\n",
    "\n",
    "# Cetak hasil\n",
    "print(f\"Titik kritis: {critical_points}\")\n",
    "for cp, nature in critical_info:\n",
    "    print(f\"Titik x = {cp} adalah {nature}\")\n",
    "\n",
    "# Plot grafik fungsi\n",
    "x_vals = np.linspace(-1, 3, 500)\n",
    "y_vals = [f.subs(x, val) for val in x_vals]\n",
    "\n",
    "plt.figure(figsize=(8, 6))\n",
    "plt.plot(x_vals, y_vals, label=r\"$f(x) = x^3 - 3x^2 + 2$\", color=\"blue\")\n",
    "plt.axhline(0, color=\"black\", linewidth=0.5, linestyle=\"--\")\n",
    "plt.axvline(0, color=\"black\", linewidth=0.5, linestyle=\"--\")\n",
    "\n",
    "# titik kritis\n",
    "for cp, nature in critical_info:\n",
    "    plt.scatter(float(cp), float(f.subs(x, cp)), color=\"red\", label=f\"{nature} di x={cp}\")\n",
    "    plt.text(float(cp), float(f.subs(x, cp)) + 0.5, nature, color=\"green\", fontsize=10)\n",
    "\n",
    "plt.title(\"Grafik Fungsi dan Analisis Titik Kritis\", fontsize=14)\n",
    "plt.xlabel(\"x\", fontsize=12)\n",
    "plt.ylabel(\"f(x)\", fontsize=12)\n",
    "plt.legend()\n",
    "plt.grid()\n",
    "plt.show()"
   ]
  },
  {
   "cell_type": "markdown",
   "id": "7ac74942",
   "metadata": {},
   "source": [
    "\n",
    "4. Aplikasi Maxima atau Minima\n",
    "Maxima dan minima digunakan dalam berbagai bidang:\n",
    "- Geofisika: Untuk menganalisis data topografi dan medan gravitasi.\n",
    "- Optimisasi: Dalam teknik untuk memaksimalkan efisiensi atau meminimalkan kerugian.\n",
    "- Fungsi Biaya: Dalam analisis ekonomis dan finansial.\n"
   ]
  },
  {
   "cell_type": "markdown",
   "id": "e83c6ef7",
   "metadata": {},
   "source": [
    "\n",
    "# **4.5 SERIES EXPANSION (PENGEMBANGAN DERET)**\n",
    "**Series Expansion (Pengembangan Deret)**\n",
    "Pengembangan deret memungkinkan kita merepresentasikan fungsi dalam bentuk polinomial yang terdiri dari deret tak hingga. Salah satu jenis pengembangan deret yang paling terkenal adalah Deret Taylor dan Deret Maclaurin.\n",
    "\n"
   ]
  },
  {
   "cell_type": "markdown",
   "id": "6c16cf5b",
   "metadata": {},
   "source": [
    "\n",
    "1. Deret Taylor\n",
    "Deret Taylor adalah ekspansi fungsi $ f(x) $ sekitar titik $( x = a )$. Persamaannya: \n",
    "$$\n",
    "f(x) = f(a) + f'(a)(x-a) + \\frac{f''(a)}{2!}(x-a)^2 + \\frac{f'''(a)}{3!}(x-a)^3 + \\dots\n",
    "\\tag{4.25}$$\n",
    "\n"
   ]
  },
  {
   "cell_type": "markdown",
   "id": "52354370",
   "metadata": {},
   "source": [
    "\n",
    "2. Deret Maclaurin\n",
    "Deret Maclaurin adalah kasus khusus dari Deret Taylor ketika ( a = 0 ). Persamaannya: \n",
    "$$\n",
    "f(x) = f(0) + f'(0)x + \\frac{f''(0)}{2!}x^2 + \\frac{f'''(0)}{3!}x^3 + \\dots\\tag{4.26}\n",
    "$$\n",
    "\n"
   ]
  },
  {
   "cell_type": "markdown",
   "id": "ba84e8b2",
   "metadata": {},
   "source": [
    "\n",
    "Contoh 1: Deret Taylor untuk Fungsi  $e^x $\n",
    "\n",
    "Gunakan deret Taylor untuk mendekati $( e^x )$ di sekitar $( x = 0 )$ hingga suku keempat. Hitung nilai aproksimasi untuk $( x = 1 )$.\n"
   ]
  },
  {
   "cell_type": "code",
   "execution_count": 15,
   "id": "b7cfc986",
   "metadata": {},
   "outputs": [
    {
     "name": "stdout",
     "output_type": "stream",
     "text": [
      "Aproksimasi Taylor dari e^1 dengan 4 suku: 2.6666666666666665\n",
      "Nilai aktual dari e^1: 2.718281828459045\n",
      "Selisih: 0.05161516179237857\n"
     ]
    }
   ],
   "source": [
    "import numpy as np\n",
    "import math \n",
    "\n",
    "# penyelesaian\n",
    "def taylor_exp(x, n_terms=4):\n",
    "    approximation = 0\n",
    "    for n in range(n_terms):\n",
    "        term = (x**n) / math.factorial(n)  # Ganti np.math.factorial(n) dengan math.factorial(n)\n",
    "        approximation += term\n",
    "    return approximation\n",
    "\n",
    "# Hitung untuk x = 1\n",
    "x_value = 1\n",
    "taylor_approx = taylor_exp(x_value)\n",
    "\n",
    "# Bandingkan dengan nilai aktual\n",
    "actual_value = np.exp(x_value)\n",
    "\n",
    "print(f\"Aproksimasi Taylor dari e^{x_value} dengan 4 suku: {taylor_approx}\")\n",
    "print(f\"Nilai aktual dari e^{x_value}: {actual_value}\")\n",
    "print(f\"Selisih: {abs(actual_value - taylor_approx)}\")"
   ]
  },
  {
   "cell_type": "markdown",
   "id": "807af2c2",
   "metadata": {},
   "source": [
    "contoh soal deret maclaurin\n",
    "\n",
    "Gunakan deret Maclaurin hingga suku keempat untuk mendekati $ \\sin(x) $. Hitung nilai aproksimasi untuk $ x = \\frac{\\pi}{4} $.\n"
   ]
  },
  {
   "cell_type": "code",
   "execution_count": null,
   "id": "9ccd82fa",
   "metadata": {},
   "outputs": [
    {
     "name": "stdout",
     "output_type": "stream",
     "text": [
      "Aproksimasi Maclaurin dari sin(0.7853981633974483) dengan 4 suku: 0.7071064695751781\n",
      "Nilai aktual dari sin(0.7853981633974483): 0.7071067811865476\n",
      "Selisih: 3.116113694856537e-07\n"
     ]
    }
   ],
   "source": [
    "import numpy as np\n",
    "import math \n",
    "\n",
    "# Definisikan fungsi untuk aproksimasi Maclaurin dari sin(x)\n",
    "def maclaurin_sin(x, n_terms=4):\n",
    "    approximation = 0\n",
    "    for n in range(n_terms):\n",
    "        term = ((-1)**n * x**(2*n+1)) / math.factorial(2*n+1)  # Ganti np.math.factorial() dengan math.factorial()\n",
    "        approximation += term\n",
    "    return approximation\n",
    "\n",
    "# Hitung untuk x = π/4\n",
    "x_value = np.pi / 4\n",
    "maclaurin_approx = maclaurin_sin(x_value)\n",
    "\n",
    "# Bandingkan dengan nilai aktual\n",
    "actual_value = np.sin(x_value)\n",
    "\n",
    "# Cetak hasil\n",
    "print(f\"Aproksimasi Maclaurin dari sin({x_value}) dengan 4 suku: {maclaurin_approx}\")\n",
    "print(f\"Nilai aktual dari sin({x_value}): {actual_value}\")\n",
    "print(f\"Selisih: {abs(actual_value - maclaurin_approx)}\")"
   ]
  },
  {
   "cell_type": "markdown",
   "id": "869e61b2",
   "metadata": {},
   "source": [
    "\n",
    "Contoh 3: Deret Taylor untuk Fungsi $ \\cos(x) $\n",
    "Fungsi $ f(x) = \\cos(x) $ memiliki turunan periodik:\n",
    "- $ f'(x) = -\\sin(x) $,\n",
    "- $ f''(x) = -\\cos(x) $,\n",
    "- $ f'''(x) = \\sin(x) $,\n",
    "- $ f^{(4)}(x) = \\cos(x) $.\n",
    "\n",
    "Pengembangan deret Taylor di sekitar ( x = 0 ) (Deret Maclaurin): $$\\cos(x) = 1 - \\frac{x^2}{2!} + \\frac{x^4}{4!} - \\frac{x^6}{6!} + \\dots \\tag{4.27}$$\n"
   ]
  },
  {
   "cell_type": "markdown",
   "id": "51639d02",
   "metadata": {},
   "source": [
    "\n",
    "4. Aplikasi Series Expansion\n",
    "Pengembangan deret digunakan dalam berbagai bidang:\n",
    "- Geofisika: Untuk mendekati persamaan non-linear seperti gelombang seismik.\n",
    "- Matematika Numerik: Untuk menghitung nilai fungsi secara mendekati, terutama untuk fungsi kompleks.\n",
    "- Ilmu Teknik: Dalam analisis kestabilan dan dinamika sistem."
   ]
  },
  {
   "cell_type": "markdown",
   "id": "4b333e97",
   "metadata": {},
   "source": [
    "# **4.6 APLIKASI DALAM GEOFISIKA**\n",
    "**Aplikasi Diferensial dalam Ilmu Geofisika**\n",
    "Geofisika adalah cabang ilmu yang mempelajari sifat fisik bumi dan fenomena alam seperti gempa bumi, aliran panas, dan medan gravitasi. Konsep diferensial sangat penting dalam memahami dan menganalisis data geofisika.\n"
   ]
  },
  {
   "cell_type": "markdown",
   "id": "56b52ba1",
   "metadata": {},
   "source": [
    "\n",
    "1. Aliran Panas di Bumi\n",
    "Aliran panas di bawah permukaan bumi dapat dimodelkan menggunakan hukum Fourier: $$ q = -k \\frac{\\partial T}{\\partial x} \\tag{4.28}$$\n",
    "- $ q $: Aliran panas $(W/m²)$.\n",
    "- $ k $: Konduktivitas termal $(W/mK)$.\n",
    "- $ \\frac{\\partial T}{\\partial x} $: Gradien suhu.\n",
    "\n",
    "Hukum ini menjelaskan bahwa aliran panas mengalir dari daerah yang bersuhu lebih tinggi ke daerah yang bersuhu lebih rendah.\n",
    "\n"
   ]
  },
  {
   "cell_type": "markdown",
   "id": "a3b72c33",
   "metadata": {},
   "source": [
    "\n",
    "2.  Medan Gravitasi\n",
    "Diferensial digunakan dalam analisis medan gravitasi untuk menentukan gradien gravitasi. Misalkan $ g(x) $ adalah medan gravitasi, maka gradien gravitasi adalah: $$ \\frac{\\partial g}{\\partial x} \\tag{4.29}$$\n",
    "\n",
    "Gradien gravitasi digunakan untuk mempelajari distribusi massa di bawah permukaan bumi.\n",
    "\n"
   ]
  },
  {
   "cell_type": "markdown",
   "id": "71d63408",
   "metadata": {},
   "source": [
    "\n",
    "3. Persamaan Gelombang Seismik\n",
    "Gelombang seismik di bumi dimodelkan menggunakan persamaan gelombang: $$ \\frac{\\partial^2 u}{\\partial t^2} = v^2 \\nabla^2 u \\tag{4.30}$$\n",
    "- $( u )$: Perpindahan gelombang.\n",
    "- $( t )$: Waktu.\n",
    "- $( v )$: Kecepatan gelombang.\n",
    "- $( \\nabla^2 u )$: Laplasian perpindahan.\n",
    "\n",
    "Persamaan ini digunakan untuk menganalisis propagasi gelombang gempa di bumi.\n",
    "\n"
   ]
  },
  {
   "cell_type": "markdown",
   "id": "193c3d23",
   "metadata": {},
   "source": [
    "\n",
    "4. Pemodelan Tektonik\n",
    "Dalam analisis deformasi kerak bumi, diferensial digunakan untuk mempelajari strain (perubahan bentuk): $ \\epsilon = \\frac{\\partial u}{\\partial x} $\n",
    "- $( \\epsilon )$: Strain.\n",
    "- ( u ): Perpindahan.\n",
    "- ( x ): Posisi.\n",
    "Pemodelan strain membantu memahami mekanisme pergerakan lempeng tektonik.\n",
    "\n"
   ]
  },
  {
   "cell_type": "markdown",
   "id": "e6b63775",
   "metadata": {},
   "source": [
    "\n",
    "5. Aplikasi Numerik\n",
    "Dalam geofisika, diferensial sering digunakan dalam metode numerik, seperti:\n",
    "- Finite Difference Method: Untuk menyelesaikan persamaan diferensial parsial.\n",
    "- Inversi Data: Untuk memodelkan parameter geofisika dari data pengukuran.\n",
    "\n",
    "Kesimpulan\n",
    "Diferensial memungkinkan para geofisikawan untuk mempelajari fenomena alam yang kompleks dengan cara yang terukur dan matematis. Pemodelan menggunakan hukum dasar diferensial membantu mengungkap rahasia di bawah permukaan bumi.\n",
    "\n"
   ]
  },
  {
   "cell_type": "markdown",
   "id": "1aefbabf",
   "metadata": {},
   "source": [
    "## integrasi\n",
    "\n",
    "## 1. Definisi \n",
    "integral adalah salah satu cabang ilmu kalkulus. Secara umum, integral mengukur jumlah atau akumulasi dari sesuatu dalam suatu domain tertentu. Maka dari itu, pengertian nilai integral mencakup luas di bawah kurva fungsi pada interval tertentu.\n",
    "\n",
    "integral matematika merupakan kebalikan dari turunan. Dengan demikian, apabila sebuah fungsi f(x) diturunkan menjadi f’(x), maka integral dari f’(x) adalah f(x) itu sendiri.\n",
    "\n",
    "\n",
    "\n",
    "## 2. integral tak tentu\n",
    "\n",
    "Integral Tak Tentu adalah jenis integral yang hasilnya masih berupa fungsi dalam variabel tertentu dan masih memuat konstanta integrasinya. Integral Tak Tentu tidak memiliki batas atas dan batas bawah. Rumus Integral Tak Tentu, yaitu:\n",
    "\n",
    "$$\\int kdx = kx+C \\tag{5.1}$$\n",
    "\n",
    "\n",
    "\n",
    "## 3. integral tentu\n",
    "\n",
    "Integral Tentu adalah bentuk integral matematika yang memiliki batasan atas dan batasan bawah yang jelas, sehingga menghasilkan sebuah nilai. Rumus Integral Tentu yaitu:\n",
    "\n",
    " $$ \\int_{b}^{a} f(x) dx = F(b)-F(a) \\tag{5.2}$$\n",
    "\n",
    "## 4. integral by parts\n",
    "\n",
    "Ini digunakan untuk menyelesaikan integral perkalian dua fungsi dengan memisahkan salah satu bagian untuk diturunkan (du) dan bagian lain untuk diintegralkan (dv).\n",
    "\n",
    "$$\\int udv = uv - \\int vdu \\tag{5.3}$$\n",
    "\n",
    "\n",
    "\n",
    "## 4. aplikasi integral\n",
    "1. Menghitung Luas Daerah:\n",
    "Integral digunakan untuk menghitung luas daerah di bawah kurva fungsi pada interval tertentu. Ini sangat berguna untuk menghitung luas bentuk-bentuk geometris yang tidak beraturan atau luas daerah yang dibatasi oleh kurva-kurva berbeda.\n",
    "Contohnya, integral dapat digunakan untuk menghitung luas area yang dibatasi oleh kurva parabola, garis, atau bentuk lain yang tidak memiliki rumus luas yang sederhana. \n",
    "2. Menentukan Volume Benda:\n",
    "Integral dapat digunakan untuk menghitung volume benda-benda putar, seperti silinder, kerucut, atau bola, yang terbentuk dengan memutar kurva tertentu terhadap sumbu.\n",
    "3. Menganalisis Fenomena Fisik dan Ekonomi:\n",
    "Integral digunakan dalam berbagai aplikasi fisika dan ekonomi.\n",
    "Fisika: Integral digunakan untuk menentukan kecepatan, perpindahan, kerja, dan berbagai besaran fisika lainnya. Contohnya, integral dapat digunakan untuk menentukan jarak yang ditempuh oleh sebuah objek yang bergerak dengan kecepatan yang berubah-ubah.\n",
    "Ekonomi: Integral digunakan untuk menghitung fungsi produksi, elastisitas, angka pengganda, dan biaya marjinal. Contohnya, integral dapat digunakan untuk menghitung total biaya produksi jika diketahui biaya marjinalnya. \n"
   ]
  },
  {
   "cell_type": "markdown",
   "id": "d81bdd42",
   "metadata": {},
   "source": [
    "\n",
    "### contoh soal\n",
    "1. $ \\int 3x^2 + 2x + 1 $\n"
   ]
  },
  {
   "cell_type": "code",
   "execution_count": null,
   "id": "bb065d9e",
   "metadata": {},
   "outputs": [],
   "source": [
    "\n",
    "import sympy\n",
    "from sympy import integrate, symbols\n",
    "\n",
    "x = symbols('x')\n",
    "fungsi = 3*x**2 + 2*x + 1\n",
    "\n",
    "integral = integrate(fungsi, x)\n",
    "integral\n",
    "\n"
   ]
  },
  {
   "cell_type": "markdown",
   "id": "4aff8bc2",
   "metadata": {},
   "source": [
    "\n",
    "2. $ \\int \\frac {(2+3x)^2}{\\sqrt x}$\n"
   ]
  },
  {
   "cell_type": "code",
   "execution_count": null,
   "id": "9738f460",
   "metadata": {},
   "outputs": [],
   "source": [
    "\n",
    "import sympy\n",
    "from sympy import integrate, symbols, sqrt\n",
    "\n",
    "x = symbols('x') \n",
    "fungsi = ((2+3*x)**2)/sqrt(x)\n",
    "\n",
    "integral= integrate(fungsi, x)\n",
    "integral\n"
   ]
  },
  {
   "cell_type": "markdown",
   "id": "8253d27f",
   "metadata": {},
   "source": [
    "\n",
    "3. $ \\int(\\frac{1}{t}+2t)^2 $\n"
   ]
  },
  {
   "cell_type": "code",
   "execution_count": null,
   "id": "bb558677",
   "metadata": {},
   "outputs": [],
   "source": [
    "\n",
    "import sympy \n",
    "from sympy import integrate, symbols\n",
    "\n",
    "t = symbols('t')\n",
    "fungsi = (1/t + 2*t)**2\n",
    "\n",
    "integral = integrate(fungsi, t)\n",
    "integral\n",
    "\n",
    "\n"
   ]
  },
  {
   "cell_type": "markdown",
   "id": "c46c579d",
   "metadata": {},
   "source": [
    "4. $ \\int_{0}^{\\frac{\\pi}{2}} t^2 cos t$ \n"
   ]
  },
  {
   "cell_type": "code",
   "execution_count": null,
   "id": "86030103",
   "metadata": {},
   "outputs": [],
   "source": [
    "import sympy \n",
    "from sympy import integrate, symbols, cos, pi\n",
    "\n",
    "t = symbols ('t')\n",
    "fungsi = t**2 * cos(t)\n",
    "\n",
    "integral = integrate(fungsi,(t,0,pi/2))\n",
    "integral\n"
   ]
  },
  {
   "cell_type": "markdown",
   "id": "03a528c9",
   "metadata": {},
   "source": [
    "\n",
    "\n",
    "5. $\\int 3x^2e^\\frac{x}{2}$\n"
   ]
  },
  {
   "cell_type": "code",
   "execution_count": 5,
   "id": "f4e5a98e",
   "metadata": {},
   "outputs": [
    {
     "data": {
      "text/latex": [
       "$\\displaystyle \\left(6 x^{2} - 24 x + 48\\right) e^{\\frac{x}{2}}$"
      ],
      "text/plain": [
       "(6*x**2 - 24*x + 48)*exp(x/2)"
      ]
     },
     "execution_count": 5,
     "metadata": {},
     "output_type": "execute_result"
    }
   ],
   "source": [
    "\n",
    "import sympy \n",
    "from sympy import integrate, symbols, exp\n",
    "\n",
    "x = symbols('x')\n",
    "fungsi = 3*x**2*exp(x/2)\n",
    "\n",
    "integral = integrate(fungsi, x)\n",
    "integral\n"
   ]
  },
  {
   "cell_type": "markdown",
   "id": "a098ca82",
   "metadata": {},
   "source": [
    "\n",
    "6. $ \\int 3x sin x $ \n"
   ]
  },
  {
   "cell_type": "code",
   "execution_count": 6,
   "id": "11ddce82",
   "metadata": {},
   "outputs": [
    {
     "data": {
      "text/latex": [
       "$\\displaystyle - 3 x \\cos{\\left(x \\right)} + 3 \\sin{\\left(x \\right)}$"
      ],
      "text/plain": [
       "-3*x*cos(x) + 3*sin(x)"
      ]
     },
     "execution_count": 6,
     "metadata": {},
     "output_type": "execute_result"
    }
   ],
   "source": [
    "import sympy \n",
    "from sympy import integrate, symbols, sin\n",
    "x = symbols('x')\n",
    "fungsi = 3*x*sin(x)\n",
    "\n",
    "integral = integrate(fungsi, x)\n",
    "integral"
   ]
  }
 ],
 "metadata": {
  "kernelspec": {
   "display_name": "Python 3",
   "language": "python",
   "name": "python3"
  },
  "language_info": {
   "codemirror_mode": {
    "name": "ipython",
    "version": 3
   },
   "file_extension": ".py",
   "mimetype": "text/x-python",
   "name": "python",
   "nbconvert_exporter": "python",
   "pygments_lexer": "ipython3",
   "version": "3.13.2"
  }
 },
 "nbformat": 4,
 "nbformat_minor": 5
}
